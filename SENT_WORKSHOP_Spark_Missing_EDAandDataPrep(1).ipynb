{
  "cells": [
    {
      "cell_type": "markdown",
      "metadata": {
        "id": "view-in-github"
      },
      "source": [
        "<a href=\"https://colab.research.google.com/github/aekanun2020/2022-PUB_COC-Data-Science-for-Tourism/blob/main/WORKSHOP_Spark_Missing_Exploration_with_MCAR_MNAR_MAR_Structural.ipynb\" target=\"_parent\"><img src=\"https://colab.research.google.com/assets/colab-badge.svg\" alt=\"Open In Colab\"/></a>"
      ]
    },
    {
      "cell_type": "code",
      "source": [
        "!apt-get install openjdk-8-jdk-headless -qq > /dev/null\n",
        "!wget -q https://archive.apache.org/dist/spark/spark-2.4.1/spark-2.4.1-bin-hadoop2.7.tgz\n",
        "!tar xf spark-2.4.1-bin-hadoop2.7.tgz\n",
        "!pip install -q findspark\n",
        "\n",
        "import os\n",
        "os.environ[\"JAVA_HOME\"] = \"/usr/lib/jvm/java-8-openjdk-amd64\"\n",
        "os.environ[\"SPARK_HOME\"] = \"/content/spark-2.4.1-bin-hadoop2.7\"\n",
        "\n",
        "import findspark\n",
        "findspark.init()\n",
        "from pyspark.sql import SparkSession\n",
        "spark = SparkSession.builder.master(\"local[*]\").getOrCreate()\n",
        "\n",
        "from pyspark.sql import SparkSession\n",
        "\n",
        "spark = SparkSession.builder \\\n",
        "   .appName(\"Neural Network Model\") \\\n",
        "   .config(\"spark.executor.memory\", \"3gb\") \\\n",
        "   .getOrCreate()\n",
        "   \n",
        "sc = spark.sparkContext\n",
        "\n",
        "sc"
      ],
      "metadata": {
        "id": "pizhgMW8vVEV",
        "colab": {
          "base_uri": "https://localhost:8080/",
          "height": 198
        },
        "outputId": "1fec6413-1265-4970-e85b-14405fa0a0ba"
      },
      "execution_count": null,
      "outputs": [
        {
          "output_type": "execute_result",
          "data": {
            "text/plain": [
              "<SparkContext master=local[*] appName=pyspark-shell>"
            ],
            "text/html": [
              "\n",
              "        <div>\n",
              "            <p><b>SparkContext</b></p>\n",
              "\n",
              "            <p><a href=\"http://e8be4b4bf072:4040\">Spark UI</a></p>\n",
              "\n",
              "            <dl>\n",
              "              <dt>Version</dt>\n",
              "                <dd><code>v2.4.1</code></dd>\n",
              "              <dt>Master</dt>\n",
              "                <dd><code>local[*]</code></dd>\n",
              "              <dt>AppName</dt>\n",
              "                <dd><code>pyspark-shell</code></dd>\n",
              "            </dl>\n",
              "        </div>\n",
              "        "
            ]
          },
          "metadata": {},
          "execution_count": 1
        }
      ]
    },
    {
      "cell_type": "code",
      "source": [
        "! wget https://storage.googleapis.com/5-7sep2022/data/2008.csv"
      ],
      "metadata": {
        "colab": {
          "base_uri": "https://localhost:8080/"
        },
        "id": "91sckoqxwwBg",
        "outputId": "f2134591-6f19-4773-fbe9-d73fb892b975"
      },
      "execution_count": null,
      "outputs": [
        {
          "output_type": "stream",
          "name": "stdout",
          "text": [
            "--2022-10-05 07:03:00--  https://storage.googleapis.com/5-7sep2022/data/2008.csv\n",
            "Resolving storage.googleapis.com (storage.googleapis.com)... 142.250.125.128, 142.250.136.128, 142.250.148.128, ...\n",
            "Connecting to storage.googleapis.com (storage.googleapis.com)|142.250.125.128|:443... connected.\n",
            "HTTP request sent, awaiting response... 200 OK\n",
            "Length: 689413344 (657M) [text/csv]\n",
            "Saving to: ‘2008.csv’\n",
            "\n",
            "2008.csv            100%[===================>] 657.48M   114MB/s    in 5.8s    \n",
            "\n",
            "2022-10-05 07:03:06 (114 MB/s) - ‘2008.csv’ saved [689413344/689413344]\n",
            "\n"
          ]
        }
      ]
    },
    {
      "cell_type": "code",
      "execution_count": null,
      "metadata": {
        "id": "deCVXE1ZvTvI"
      },
      "outputs": [],
      "source": [
        "raw_df = spark.read.option('header','true').option('inferSchema','true').csv('./2008.csv')"
      ]
    },
    {
      "cell_type": "markdown",
      "source": [
        "# **2. Data Understanding**"
      ],
      "metadata": {
        "id": "3RDOgUxEHYz0"
      }
    },
    {
      "cell_type": "markdown",
      "source": [
        "ดู Missing, Dispersion, Outlier"
      ],
      "metadata": {
        "id": "UD8RbkcpHsya"
      }
    },
    {
      "cell_type": "code",
      "execution_count": null,
      "metadata": {
        "id": "B89l6EMNvTvX",
        "colab": {
          "base_uri": "https://localhost:8080/"
        },
        "outputId": "d356c9aa-aa3e-425e-81c3-f89c18f59140"
      },
      "outputs": [
        {
          "output_type": "stream",
          "name": "stdout",
          "text": [
            "root\n",
            " |-- Year: integer (nullable = true)\n",
            " |-- Month: integer (nullable = true)\n",
            " |-- DayofMonth: integer (nullable = true)\n",
            " |-- DayOfWeek: integer (nullable = true)\n",
            " |-- DepTime: string (nullable = true)\n",
            " |-- CRSDepTime: integer (nullable = true)\n",
            " |-- ArrTime: string (nullable = true)\n",
            " |-- CRSArrTime: integer (nullable = true)\n",
            " |-- UniqueCarrier: string (nullable = true)\n",
            " |-- FlightNum: integer (nullable = true)\n",
            " |-- TailNum: string (nullable = true)\n",
            " |-- ActualElapsedTime: string (nullable = true)\n",
            " |-- CRSElapsedTime: string (nullable = true)\n",
            " |-- AirTime: string (nullable = true)\n",
            " |-- ArrDelay: string (nullable = true)\n",
            " |-- DepDelay: string (nullable = true)\n",
            " |-- Origin: string (nullable = true)\n",
            " |-- Dest: string (nullable = true)\n",
            " |-- Distance: integer (nullable = true)\n",
            " |-- TaxiIn: string (nullable = true)\n",
            " |-- TaxiOut: string (nullable = true)\n",
            " |-- Cancelled: integer (nullable = true)\n",
            " |-- CancellationCode: string (nullable = true)\n",
            " |-- Diverted: integer (nullable = true)\n",
            " |-- CarrierDelay: string (nullable = true)\n",
            " |-- WeatherDelay: string (nullable = true)\n",
            " |-- NASDelay: string (nullable = true)\n",
            " |-- SecurityDelay: string (nullable = true)\n",
            " |-- LateAircraftDelay: string (nullable = true)\n",
            "\n"
          ]
        }
      ],
      "source": [
        "raw_df.printSchema()"
      ]
    },
    {
      "cell_type": "code",
      "execution_count": null,
      "metadata": {
        "id": "nKrve2wKvTvX",
        "colab": {
          "base_uri": "https://localhost:8080/"
        },
        "outputId": "c32a6acb-03f9-4ec0-8717-09f8dd93edb3"
      },
      "outputs": [
        {
          "output_type": "execute_result",
          "data": {
            "text/plain": [
              "7009728"
            ]
          },
          "metadata": {},
          "execution_count": 27
        }
      ],
      "source": [
        "raw_df.count()"
      ]
    },
    {
      "cell_type": "code",
      "source": [
        "raw_df.describe().toPandas().transpose()"
      ],
      "metadata": {
        "colab": {
          "base_uri": "https://localhost:8080/",
          "height": 990
        },
        "id": "p0UZ8g-eC62S",
        "outputId": "c8df1895-875a-4bee-d29a-ee822a11700a"
      },
      "execution_count": null,
      "outputs": [
        {
          "output_type": "execute_result",
          "data": {
            "text/plain": [
              "                         0                      1                       2  \\\n",
              "summary              count                   mean                  stddev   \n",
              "Year               7009728                 2008.0  1.6928719673098015E-13   \n",
              "Month              7009728      6.375129676928976      3.4067366032507986   \n",
              "DayofMonth         7009728      15.72801483880687       8.797067919493633   \n",
              "DayOfWeek          7009728     3.9241815088973495      1.9882589459851212   \n",
              "DepTime            7009728     1333.8300461105448      478.06889486629836   \n",
              "CRSDepTime         7009728     1326.0856632382884       464.2509106889191   \n",
              "ArrTime            7009728      1481.258226684178      505.22512933801556   \n",
              "CRSArrTime         7009728     1494.8011536253618      482.67282151078666   \n",
              "UniqueCarrier      7009728                   None                    None   \n",
              "FlightNum          7009728      2224.200105196664       1961.715998533819   \n",
              "TailNum            6926363                   None                    None   \n",
              "ActualElapsedTime  7009728     127.32242372716439        70.1873078604597   \n",
              "CRSElapsedTime     7009728     128.86679391469454       69.40973572391974   \n",
              "AirTime            7009728      104.0185891263188       67.43979594730754   \n",
              "ArrDelay           7009728       8.16845238729114       38.50193694882867   \n",
              "DepDelay           7009728      9.972570088930182      35.311270777552785   \n",
              "Origin             7009728                   None                    None   \n",
              "Dest               7009728                   None                    None   \n",
              "Distance           7009728      726.3870294253928       562.1018034840403   \n",
              "TaxiIn             7009728      6.860851704974527       4.933649371300466   \n",
              "TaxiOut            7009728     16.453045177492882      11.332798654232155   \n",
              "Cancelled          7009728   0.019606181580797428     0.13864264122836248   \n",
              "CancellationCode    137434                   None                    None   \n",
              "Diverted           7009728  0.0024630056972253416     0.04956752617051835   \n",
              "CarrierDelay       7009728     15.772063342154539       40.09911594635346   \n",
              "WeatherDelay       7009728      3.039031044738922       19.50287413039825   \n",
              "NASDelay           7009728      17.16462270492905      31.894954751426276   \n",
              "SecurityDelay      7009728    0.07497433980331009      1.8379400064440026   \n",
              "LateAircraftDelay  7009728     20.770981186894772       39.25963608638892   \n",
              "\n",
              "                        3       4  \n",
              "summary               min     max  \n",
              "Year                 2008    2008  \n",
              "Month                   1      12  \n",
              "DayofMonth              1      31  \n",
              "DayOfWeek               1       7  \n",
              "DepTime                 1      NA  \n",
              "CRSDepTime              0    2359  \n",
              "ArrTime                 1      NA  \n",
              "CRSArrTime              0    2400  \n",
              "UniqueCarrier          9E      YV  \n",
              "FlightNum               1    9743  \n",
              "TailNum            80009E  Unknow  \n",
              "ActualElapsedTime     100      NA  \n",
              "CRSElapsedTime        -10      NA  \n",
              "AirTime                 0      NA  \n",
              "ArrDelay               -1      NA  \n",
              "DepDelay               -1      NA  \n",
              "Origin                ABE     YUM  \n",
              "Dest                  ABE     YUM  \n",
              "Distance               11    4962  \n",
              "TaxiIn                  0      NA  \n",
              "TaxiOut                 0      NA  \n",
              "Cancelled               0       1  \n",
              "CancellationCode        A       D  \n",
              "Diverted                0       1  \n",
              "CarrierDelay            0      NA  \n",
              "WeatherDelay            0      NA  \n",
              "NASDelay                0      NA  \n",
              "SecurityDelay           0      NA  \n",
              "LateAircraftDelay       0      NA  "
            ],
            "text/html": [
              "\n",
              "  <div id=\"df-d4bad1bd-ba1c-4414-9528-2749e44fe0a2\">\n",
              "    <div class=\"colab-df-container\">\n",
              "      <div>\n",
              "<style scoped>\n",
              "    .dataframe tbody tr th:only-of-type {\n",
              "        vertical-align: middle;\n",
              "    }\n",
              "\n",
              "    .dataframe tbody tr th {\n",
              "        vertical-align: top;\n",
              "    }\n",
              "\n",
              "    .dataframe thead th {\n",
              "        text-align: right;\n",
              "    }\n",
              "</style>\n",
              "<table border=\"1\" class=\"dataframe\">\n",
              "  <thead>\n",
              "    <tr style=\"text-align: right;\">\n",
              "      <th></th>\n",
              "      <th>0</th>\n",
              "      <th>1</th>\n",
              "      <th>2</th>\n",
              "      <th>3</th>\n",
              "      <th>4</th>\n",
              "    </tr>\n",
              "  </thead>\n",
              "  <tbody>\n",
              "    <tr>\n",
              "      <th>summary</th>\n",
              "      <td>count</td>\n",
              "      <td>mean</td>\n",
              "      <td>stddev</td>\n",
              "      <td>min</td>\n",
              "      <td>max</td>\n",
              "    </tr>\n",
              "    <tr>\n",
              "      <th>Year</th>\n",
              "      <td>7009728</td>\n",
              "      <td>2008.0</td>\n",
              "      <td>1.6928719673098015E-13</td>\n",
              "      <td>2008</td>\n",
              "      <td>2008</td>\n",
              "    </tr>\n",
              "    <tr>\n",
              "      <th>Month</th>\n",
              "      <td>7009728</td>\n",
              "      <td>6.375129676928976</td>\n",
              "      <td>3.4067366032507986</td>\n",
              "      <td>1</td>\n",
              "      <td>12</td>\n",
              "    </tr>\n",
              "    <tr>\n",
              "      <th>DayofMonth</th>\n",
              "      <td>7009728</td>\n",
              "      <td>15.72801483880687</td>\n",
              "      <td>8.797067919493633</td>\n",
              "      <td>1</td>\n",
              "      <td>31</td>\n",
              "    </tr>\n",
              "    <tr>\n",
              "      <th>DayOfWeek</th>\n",
              "      <td>7009728</td>\n",
              "      <td>3.9241815088973495</td>\n",
              "      <td>1.9882589459851212</td>\n",
              "      <td>1</td>\n",
              "      <td>7</td>\n",
              "    </tr>\n",
              "    <tr>\n",
              "      <th>DepTime</th>\n",
              "      <td>7009728</td>\n",
              "      <td>1333.8300461105448</td>\n",
              "      <td>478.06889486629836</td>\n",
              "      <td>1</td>\n",
              "      <td>NA</td>\n",
              "    </tr>\n",
              "    <tr>\n",
              "      <th>CRSDepTime</th>\n",
              "      <td>7009728</td>\n",
              "      <td>1326.0856632382884</td>\n",
              "      <td>464.2509106889191</td>\n",
              "      <td>0</td>\n",
              "      <td>2359</td>\n",
              "    </tr>\n",
              "    <tr>\n",
              "      <th>ArrTime</th>\n",
              "      <td>7009728</td>\n",
              "      <td>1481.258226684178</td>\n",
              "      <td>505.22512933801556</td>\n",
              "      <td>1</td>\n",
              "      <td>NA</td>\n",
              "    </tr>\n",
              "    <tr>\n",
              "      <th>CRSArrTime</th>\n",
              "      <td>7009728</td>\n",
              "      <td>1494.8011536253618</td>\n",
              "      <td>482.67282151078666</td>\n",
              "      <td>0</td>\n",
              "      <td>2400</td>\n",
              "    </tr>\n",
              "    <tr>\n",
              "      <th>UniqueCarrier</th>\n",
              "      <td>7009728</td>\n",
              "      <td>None</td>\n",
              "      <td>None</td>\n",
              "      <td>9E</td>\n",
              "      <td>YV</td>\n",
              "    </tr>\n",
              "    <tr>\n",
              "      <th>FlightNum</th>\n",
              "      <td>7009728</td>\n",
              "      <td>2224.200105196664</td>\n",
              "      <td>1961.715998533819</td>\n",
              "      <td>1</td>\n",
              "      <td>9743</td>\n",
              "    </tr>\n",
              "    <tr>\n",
              "      <th>TailNum</th>\n",
              "      <td>6926363</td>\n",
              "      <td>None</td>\n",
              "      <td>None</td>\n",
              "      <td>80009E</td>\n",
              "      <td>Unknow</td>\n",
              "    </tr>\n",
              "    <tr>\n",
              "      <th>ActualElapsedTime</th>\n",
              "      <td>7009728</td>\n",
              "      <td>127.32242372716439</td>\n",
              "      <td>70.1873078604597</td>\n",
              "      <td>100</td>\n",
              "      <td>NA</td>\n",
              "    </tr>\n",
              "    <tr>\n",
              "      <th>CRSElapsedTime</th>\n",
              "      <td>7009728</td>\n",
              "      <td>128.86679391469454</td>\n",
              "      <td>69.40973572391974</td>\n",
              "      <td>-10</td>\n",
              "      <td>NA</td>\n",
              "    </tr>\n",
              "    <tr>\n",
              "      <th>AirTime</th>\n",
              "      <td>7009728</td>\n",
              "      <td>104.0185891263188</td>\n",
              "      <td>67.43979594730754</td>\n",
              "      <td>0</td>\n",
              "      <td>NA</td>\n",
              "    </tr>\n",
              "    <tr>\n",
              "      <th>ArrDelay</th>\n",
              "      <td>7009728</td>\n",
              "      <td>8.16845238729114</td>\n",
              "      <td>38.50193694882867</td>\n",
              "      <td>-1</td>\n",
              "      <td>NA</td>\n",
              "    </tr>\n",
              "    <tr>\n",
              "      <th>DepDelay</th>\n",
              "      <td>7009728</td>\n",
              "      <td>9.972570088930182</td>\n",
              "      <td>35.311270777552785</td>\n",
              "      <td>-1</td>\n",
              "      <td>NA</td>\n",
              "    </tr>\n",
              "    <tr>\n",
              "      <th>Origin</th>\n",
              "      <td>7009728</td>\n",
              "      <td>None</td>\n",
              "      <td>None</td>\n",
              "      <td>ABE</td>\n",
              "      <td>YUM</td>\n",
              "    </tr>\n",
              "    <tr>\n",
              "      <th>Dest</th>\n",
              "      <td>7009728</td>\n",
              "      <td>None</td>\n",
              "      <td>None</td>\n",
              "      <td>ABE</td>\n",
              "      <td>YUM</td>\n",
              "    </tr>\n",
              "    <tr>\n",
              "      <th>Distance</th>\n",
              "      <td>7009728</td>\n",
              "      <td>726.3870294253928</td>\n",
              "      <td>562.1018034840403</td>\n",
              "      <td>11</td>\n",
              "      <td>4962</td>\n",
              "    </tr>\n",
              "    <tr>\n",
              "      <th>TaxiIn</th>\n",
              "      <td>7009728</td>\n",
              "      <td>6.860851704974527</td>\n",
              "      <td>4.933649371300466</td>\n",
              "      <td>0</td>\n",
              "      <td>NA</td>\n",
              "    </tr>\n",
              "    <tr>\n",
              "      <th>TaxiOut</th>\n",
              "      <td>7009728</td>\n",
              "      <td>16.453045177492882</td>\n",
              "      <td>11.332798654232155</td>\n",
              "      <td>0</td>\n",
              "      <td>NA</td>\n",
              "    </tr>\n",
              "    <tr>\n",
              "      <th>Cancelled</th>\n",
              "      <td>7009728</td>\n",
              "      <td>0.019606181580797428</td>\n",
              "      <td>0.13864264122836248</td>\n",
              "      <td>0</td>\n",
              "      <td>1</td>\n",
              "    </tr>\n",
              "    <tr>\n",
              "      <th>CancellationCode</th>\n",
              "      <td>137434</td>\n",
              "      <td>None</td>\n",
              "      <td>None</td>\n",
              "      <td>A</td>\n",
              "      <td>D</td>\n",
              "    </tr>\n",
              "    <tr>\n",
              "      <th>Diverted</th>\n",
              "      <td>7009728</td>\n",
              "      <td>0.0024630056972253416</td>\n",
              "      <td>0.04956752617051835</td>\n",
              "      <td>0</td>\n",
              "      <td>1</td>\n",
              "    </tr>\n",
              "    <tr>\n",
              "      <th>CarrierDelay</th>\n",
              "      <td>7009728</td>\n",
              "      <td>15.772063342154539</td>\n",
              "      <td>40.09911594635346</td>\n",
              "      <td>0</td>\n",
              "      <td>NA</td>\n",
              "    </tr>\n",
              "    <tr>\n",
              "      <th>WeatherDelay</th>\n",
              "      <td>7009728</td>\n",
              "      <td>3.039031044738922</td>\n",
              "      <td>19.50287413039825</td>\n",
              "      <td>0</td>\n",
              "      <td>NA</td>\n",
              "    </tr>\n",
              "    <tr>\n",
              "      <th>NASDelay</th>\n",
              "      <td>7009728</td>\n",
              "      <td>17.16462270492905</td>\n",
              "      <td>31.894954751426276</td>\n",
              "      <td>0</td>\n",
              "      <td>NA</td>\n",
              "    </tr>\n",
              "    <tr>\n",
              "      <th>SecurityDelay</th>\n",
              "      <td>7009728</td>\n",
              "      <td>0.07497433980331009</td>\n",
              "      <td>1.8379400064440026</td>\n",
              "      <td>0</td>\n",
              "      <td>NA</td>\n",
              "    </tr>\n",
              "    <tr>\n",
              "      <th>LateAircraftDelay</th>\n",
              "      <td>7009728</td>\n",
              "      <td>20.770981186894772</td>\n",
              "      <td>39.25963608638892</td>\n",
              "      <td>0</td>\n",
              "      <td>NA</td>\n",
              "    </tr>\n",
              "  </tbody>\n",
              "</table>\n",
              "</div>\n",
              "      <button class=\"colab-df-convert\" onclick=\"convertToInteractive('df-d4bad1bd-ba1c-4414-9528-2749e44fe0a2')\"\n",
              "              title=\"Convert this dataframe to an interactive table.\"\n",
              "              style=\"display:none;\">\n",
              "        \n",
              "  <svg xmlns=\"http://www.w3.org/2000/svg\" height=\"24px\"viewBox=\"0 0 24 24\"\n",
              "       width=\"24px\">\n",
              "    <path d=\"M0 0h24v24H0V0z\" fill=\"none\"/>\n",
              "    <path d=\"M18.56 5.44l.94 2.06.94-2.06 2.06-.94-2.06-.94-.94-2.06-.94 2.06-2.06.94zm-11 1L8.5 8.5l.94-2.06 2.06-.94-2.06-.94L8.5 2.5l-.94 2.06-2.06.94zm10 10l.94 2.06.94-2.06 2.06-.94-2.06-.94-.94-2.06-.94 2.06-2.06.94z\"/><path d=\"M17.41 7.96l-1.37-1.37c-.4-.4-.92-.59-1.43-.59-.52 0-1.04.2-1.43.59L10.3 9.45l-7.72 7.72c-.78.78-.78 2.05 0 2.83L4 21.41c.39.39.9.59 1.41.59.51 0 1.02-.2 1.41-.59l7.78-7.78 2.81-2.81c.8-.78.8-2.07 0-2.86zM5.41 20L4 18.59l7.72-7.72 1.47 1.35L5.41 20z\"/>\n",
              "  </svg>\n",
              "      </button>\n",
              "      \n",
              "  <style>\n",
              "    .colab-df-container {\n",
              "      display:flex;\n",
              "      flex-wrap:wrap;\n",
              "      gap: 12px;\n",
              "    }\n",
              "\n",
              "    .colab-df-convert {\n",
              "      background-color: #E8F0FE;\n",
              "      border: none;\n",
              "      border-radius: 50%;\n",
              "      cursor: pointer;\n",
              "      display: none;\n",
              "      fill: #1967D2;\n",
              "      height: 32px;\n",
              "      padding: 0 0 0 0;\n",
              "      width: 32px;\n",
              "    }\n",
              "\n",
              "    .colab-df-convert:hover {\n",
              "      background-color: #E2EBFA;\n",
              "      box-shadow: 0px 1px 2px rgba(60, 64, 67, 0.3), 0px 1px 3px 1px rgba(60, 64, 67, 0.15);\n",
              "      fill: #174EA6;\n",
              "    }\n",
              "\n",
              "    [theme=dark] .colab-df-convert {\n",
              "      background-color: #3B4455;\n",
              "      fill: #D2E3FC;\n",
              "    }\n",
              "\n",
              "    [theme=dark] .colab-df-convert:hover {\n",
              "      background-color: #434B5C;\n",
              "      box-shadow: 0px 1px 3px 1px rgba(0, 0, 0, 0.15);\n",
              "      filter: drop-shadow(0px 1px 2px rgba(0, 0, 0, 0.3));\n",
              "      fill: #FFFFFF;\n",
              "    }\n",
              "  </style>\n",
              "\n",
              "      <script>\n",
              "        const buttonEl =\n",
              "          document.querySelector('#df-d4bad1bd-ba1c-4414-9528-2749e44fe0a2 button.colab-df-convert');\n",
              "        buttonEl.style.display =\n",
              "          google.colab.kernel.accessAllowed ? 'block' : 'none';\n",
              "\n",
              "        async function convertToInteractive(key) {\n",
              "          const element = document.querySelector('#df-d4bad1bd-ba1c-4414-9528-2749e44fe0a2');\n",
              "          const dataTable =\n",
              "            await google.colab.kernel.invokeFunction('convertToInteractive',\n",
              "                                                     [key], {});\n",
              "          if (!dataTable) return;\n",
              "\n",
              "          const docLinkHtml = 'Like what you see? Visit the ' +\n",
              "            '<a target=\"_blank\" href=https://colab.research.google.com/notebooks/data_table.ipynb>data table notebook</a>'\n",
              "            + ' to learn more about interactive tables.';\n",
              "          element.innerHTML = '';\n",
              "          dataTable['output_type'] = 'display_data';\n",
              "          await google.colab.output.renderOutput(dataTable, element);\n",
              "          const docLink = document.createElement('div');\n",
              "          docLink.innerHTML = docLinkHtml;\n",
              "          element.appendChild(docLink);\n",
              "        }\n",
              "      </script>\n",
              "    </div>\n",
              "  </div>\n",
              "  "
            ]
          },
          "metadata": {},
          "execution_count": 28
        }
      ]
    },
    {
      "cell_type": "markdown",
      "source": [
        "ข้างบนเห็นว่า มี Null อยู่ที่ CancellationCode และ TailNum"
      ],
      "metadata": {
        "id": "55g-vroLH8y6"
      }
    },
    {
      "cell_type": "code",
      "source": [
        "from pyspark.sql import functions as sparkf"
      ],
      "metadata": {
        "id": "ZVy8V1XfIiiL"
      },
      "execution_count": null,
      "outputs": []
    },
    {
      "cell_type": "code",
      "source": [
        "raw_df.select(\n",
        "  [sparkf.count(sparkf.when(sparkf.isnull(c), c)).alias(c) for c in raw_df.columns]\n",
        ").toPandas().transpose()\n",
        "\n"
      ],
      "metadata": {
        "colab": {
          "base_uri": "https://localhost:8080/",
          "height": 959
        },
        "id": "chv90n44IdVF",
        "outputId": "5ecdad75-8140-4c1b-85cd-541380522a95"
      },
      "execution_count": null,
      "outputs": [
        {
          "output_type": "execute_result",
          "data": {
            "text/plain": [
              "                         0\n",
              "Year                     0\n",
              "Month                    0\n",
              "DayofMonth               0\n",
              "DayOfWeek                0\n",
              "DepTime                  0\n",
              "CRSDepTime               0\n",
              "ArrTime                  0\n",
              "CRSArrTime               0\n",
              "UniqueCarrier            0\n",
              "FlightNum                0\n",
              "TailNum              83365\n",
              "ActualElapsedTime        0\n",
              "CRSElapsedTime           0\n",
              "AirTime                  0\n",
              "ArrDelay                 0\n",
              "DepDelay                 0\n",
              "Origin                   0\n",
              "Dest                     0\n",
              "Distance                 0\n",
              "TaxiIn                   0\n",
              "TaxiOut                  0\n",
              "Cancelled                0\n",
              "CancellationCode   6872294\n",
              "Diverted                 0\n",
              "CarrierDelay             0\n",
              "WeatherDelay             0\n",
              "NASDelay                 0\n",
              "SecurityDelay            0\n",
              "LateAircraftDelay        0"
            ],
            "text/html": [
              "\n",
              "  <div id=\"df-378cfb07-1851-494e-896b-b5f275d204c2\">\n",
              "    <div class=\"colab-df-container\">\n",
              "      <div>\n",
              "<style scoped>\n",
              "    .dataframe tbody tr th:only-of-type {\n",
              "        vertical-align: middle;\n",
              "    }\n",
              "\n",
              "    .dataframe tbody tr th {\n",
              "        vertical-align: top;\n",
              "    }\n",
              "\n",
              "    .dataframe thead th {\n",
              "        text-align: right;\n",
              "    }\n",
              "</style>\n",
              "<table border=\"1\" class=\"dataframe\">\n",
              "  <thead>\n",
              "    <tr style=\"text-align: right;\">\n",
              "      <th></th>\n",
              "      <th>0</th>\n",
              "    </tr>\n",
              "  </thead>\n",
              "  <tbody>\n",
              "    <tr>\n",
              "      <th>Year</th>\n",
              "      <td>0</td>\n",
              "    </tr>\n",
              "    <tr>\n",
              "      <th>Month</th>\n",
              "      <td>0</td>\n",
              "    </tr>\n",
              "    <tr>\n",
              "      <th>DayofMonth</th>\n",
              "      <td>0</td>\n",
              "    </tr>\n",
              "    <tr>\n",
              "      <th>DayOfWeek</th>\n",
              "      <td>0</td>\n",
              "    </tr>\n",
              "    <tr>\n",
              "      <th>DepTime</th>\n",
              "      <td>0</td>\n",
              "    </tr>\n",
              "    <tr>\n",
              "      <th>CRSDepTime</th>\n",
              "      <td>0</td>\n",
              "    </tr>\n",
              "    <tr>\n",
              "      <th>ArrTime</th>\n",
              "      <td>0</td>\n",
              "    </tr>\n",
              "    <tr>\n",
              "      <th>CRSArrTime</th>\n",
              "      <td>0</td>\n",
              "    </tr>\n",
              "    <tr>\n",
              "      <th>UniqueCarrier</th>\n",
              "      <td>0</td>\n",
              "    </tr>\n",
              "    <tr>\n",
              "      <th>FlightNum</th>\n",
              "      <td>0</td>\n",
              "    </tr>\n",
              "    <tr>\n",
              "      <th>TailNum</th>\n",
              "      <td>83365</td>\n",
              "    </tr>\n",
              "    <tr>\n",
              "      <th>ActualElapsedTime</th>\n",
              "      <td>0</td>\n",
              "    </tr>\n",
              "    <tr>\n",
              "      <th>CRSElapsedTime</th>\n",
              "      <td>0</td>\n",
              "    </tr>\n",
              "    <tr>\n",
              "      <th>AirTime</th>\n",
              "      <td>0</td>\n",
              "    </tr>\n",
              "    <tr>\n",
              "      <th>ArrDelay</th>\n",
              "      <td>0</td>\n",
              "    </tr>\n",
              "    <tr>\n",
              "      <th>DepDelay</th>\n",
              "      <td>0</td>\n",
              "    </tr>\n",
              "    <tr>\n",
              "      <th>Origin</th>\n",
              "      <td>0</td>\n",
              "    </tr>\n",
              "    <tr>\n",
              "      <th>Dest</th>\n",
              "      <td>0</td>\n",
              "    </tr>\n",
              "    <tr>\n",
              "      <th>Distance</th>\n",
              "      <td>0</td>\n",
              "    </tr>\n",
              "    <tr>\n",
              "      <th>TaxiIn</th>\n",
              "      <td>0</td>\n",
              "    </tr>\n",
              "    <tr>\n",
              "      <th>TaxiOut</th>\n",
              "      <td>0</td>\n",
              "    </tr>\n",
              "    <tr>\n",
              "      <th>Cancelled</th>\n",
              "      <td>0</td>\n",
              "    </tr>\n",
              "    <tr>\n",
              "      <th>CancellationCode</th>\n",
              "      <td>6872294</td>\n",
              "    </tr>\n",
              "    <tr>\n",
              "      <th>Diverted</th>\n",
              "      <td>0</td>\n",
              "    </tr>\n",
              "    <tr>\n",
              "      <th>CarrierDelay</th>\n",
              "      <td>0</td>\n",
              "    </tr>\n",
              "    <tr>\n",
              "      <th>WeatherDelay</th>\n",
              "      <td>0</td>\n",
              "    </tr>\n",
              "    <tr>\n",
              "      <th>NASDelay</th>\n",
              "      <td>0</td>\n",
              "    </tr>\n",
              "    <tr>\n",
              "      <th>SecurityDelay</th>\n",
              "      <td>0</td>\n",
              "    </tr>\n",
              "    <tr>\n",
              "      <th>LateAircraftDelay</th>\n",
              "      <td>0</td>\n",
              "    </tr>\n",
              "  </tbody>\n",
              "</table>\n",
              "</div>\n",
              "      <button class=\"colab-df-convert\" onclick=\"convertToInteractive('df-378cfb07-1851-494e-896b-b5f275d204c2')\"\n",
              "              title=\"Convert this dataframe to an interactive table.\"\n",
              "              style=\"display:none;\">\n",
              "        \n",
              "  <svg xmlns=\"http://www.w3.org/2000/svg\" height=\"24px\"viewBox=\"0 0 24 24\"\n",
              "       width=\"24px\">\n",
              "    <path d=\"M0 0h24v24H0V0z\" fill=\"none\"/>\n",
              "    <path d=\"M18.56 5.44l.94 2.06.94-2.06 2.06-.94-2.06-.94-.94-2.06-.94 2.06-2.06.94zm-11 1L8.5 8.5l.94-2.06 2.06-.94-2.06-.94L8.5 2.5l-.94 2.06-2.06.94zm10 10l.94 2.06.94-2.06 2.06-.94-2.06-.94-.94-2.06-.94 2.06-2.06.94z\"/><path d=\"M17.41 7.96l-1.37-1.37c-.4-.4-.92-.59-1.43-.59-.52 0-1.04.2-1.43.59L10.3 9.45l-7.72 7.72c-.78.78-.78 2.05 0 2.83L4 21.41c.39.39.9.59 1.41.59.51 0 1.02-.2 1.41-.59l7.78-7.78 2.81-2.81c.8-.78.8-2.07 0-2.86zM5.41 20L4 18.59l7.72-7.72 1.47 1.35L5.41 20z\"/>\n",
              "  </svg>\n",
              "      </button>\n",
              "      \n",
              "  <style>\n",
              "    .colab-df-container {\n",
              "      display:flex;\n",
              "      flex-wrap:wrap;\n",
              "      gap: 12px;\n",
              "    }\n",
              "\n",
              "    .colab-df-convert {\n",
              "      background-color: #E8F0FE;\n",
              "      border: none;\n",
              "      border-radius: 50%;\n",
              "      cursor: pointer;\n",
              "      display: none;\n",
              "      fill: #1967D2;\n",
              "      height: 32px;\n",
              "      padding: 0 0 0 0;\n",
              "      width: 32px;\n",
              "    }\n",
              "\n",
              "    .colab-df-convert:hover {\n",
              "      background-color: #E2EBFA;\n",
              "      box-shadow: 0px 1px 2px rgba(60, 64, 67, 0.3), 0px 1px 3px 1px rgba(60, 64, 67, 0.15);\n",
              "      fill: #174EA6;\n",
              "    }\n",
              "\n",
              "    [theme=dark] .colab-df-convert {\n",
              "      background-color: #3B4455;\n",
              "      fill: #D2E3FC;\n",
              "    }\n",
              "\n",
              "    [theme=dark] .colab-df-convert:hover {\n",
              "      background-color: #434B5C;\n",
              "      box-shadow: 0px 1px 3px 1px rgba(0, 0, 0, 0.15);\n",
              "      filter: drop-shadow(0px 1px 2px rgba(0, 0, 0, 0.3));\n",
              "      fill: #FFFFFF;\n",
              "    }\n",
              "  </style>\n",
              "\n",
              "      <script>\n",
              "        const buttonEl =\n",
              "          document.querySelector('#df-378cfb07-1851-494e-896b-b5f275d204c2 button.colab-df-convert');\n",
              "        buttonEl.style.display =\n",
              "          google.colab.kernel.accessAllowed ? 'block' : 'none';\n",
              "\n",
              "        async function convertToInteractive(key) {\n",
              "          const element = document.querySelector('#df-378cfb07-1851-494e-896b-b5f275d204c2');\n",
              "          const dataTable =\n",
              "            await google.colab.kernel.invokeFunction('convertToInteractive',\n",
              "                                                     [key], {});\n",
              "          if (!dataTable) return;\n",
              "\n",
              "          const docLinkHtml = 'Like what you see? Visit the ' +\n",
              "            '<a target=\"_blank\" href=https://colab.research.google.com/notebooks/data_table.ipynb>data table notebook</a>'\n",
              "            + ' to learn more about interactive tables.';\n",
              "          element.innerHTML = '';\n",
              "          dataTable['output_type'] = 'display_data';\n",
              "          await google.colab.output.renderOutput(dataTable, element);\n",
              "          const docLink = document.createElement('div');\n",
              "          docLink.innerHTML = docLinkHtml;\n",
              "          element.appendChild(docLink);\n",
              "        }\n",
              "      </script>\n",
              "    </div>\n",
              "  </div>\n",
              "  "
            ]
          },
          "metadata": {},
          "execution_count": 30
        }
      ]
    },
    {
      "cell_type": "code",
      "source": [
        "raw_df.groupBy('ArrDelay').count()\\\n",
        ".orderBy('ArrDelay',ascending=False).show()"
      ],
      "metadata": {
        "colab": {
          "base_uri": "https://localhost:8080/"
        },
        "id": "MyKlQd-6IgmE",
        "outputId": "b1773adf-eac0-43a7-bfda-14b9adc87425"
      },
      "execution_count": null,
      "outputs": [
        {
          "output_type": "stream",
          "name": "stdout",
          "text": [
            "+--------+------+\n",
            "|ArrDelay| count|\n",
            "+--------+------+\n",
            "|      NA|154699|\n",
            "|     998|     2|\n",
            "|     994|     2|\n",
            "|     993|     1|\n",
            "|     992|     1|\n",
            "|     991|     1|\n",
            "|     990|     2|\n",
            "|      99|  3900|\n",
            "|     989|     1|\n",
            "|     988|     3|\n",
            "|     984|     2|\n",
            "|     983|     2|\n",
            "|     982|     2|\n",
            "|     981|     1|\n",
            "|     980|     1|\n",
            "|      98|  3877|\n",
            "|     979|     1|\n",
            "|     978|     1|\n",
            "|     977|     1|\n",
            "|     976|     2|\n",
            "+--------+------+\n",
            "only showing top 20 rows\n",
            "\n"
          ]
        }
      ]
    },
    {
      "cell_type": "code",
      "source": [
        "from pyspark.sql.types import *"
      ],
      "metadata": {
        "id": "dO68zqWOMNf2"
      },
      "execution_count": null,
      "outputs": []
    },
    {
      "cell_type": "code",
      "source": [
        "correctedType_df = raw_df.withColumn('DepDelay',sparkf.col('DepDelay').cast(DoubleType()))\\\n",
        ".withColumn('ArrDelay',sparkf.col('ArrDelay').cast(DoubleType()))"
      ],
      "metadata": {
        "id": "Gy8cRAfVOQNK"
      },
      "execution_count": null,
      "outputs": []
    },
    {
      "cell_type": "code",
      "source": [
        "correctedType_df.select('ArrDelay','DepDelay').dropna().count()"
      ],
      "metadata": {
        "colab": {
          "base_uri": "https://localhost:8080/"
        },
        "id": "zcAWQA5COXNu",
        "outputId": "bc699f96-3a85-4cfc-f1b4-b7c58cf82296"
      },
      "execution_count": null,
      "outputs": [
        {
          "output_type": "execute_result",
          "data": {
            "text/plain": [
              "6855029"
            ]
          },
          "metadata": {},
          "execution_count": 50
        }
      ]
    },
    {
      "cell_type": "code",
      "source": [
        "correctedType_df.select('ArrDelay','DepDelay').dropna().corr('ArrDelay','DepDelay')"
      ],
      "metadata": {
        "colab": {
          "base_uri": "https://localhost:8080/"
        },
        "id": "6PlowZoZRXiM",
        "outputId": "c46f43c4-b8d4-4e38-8d65-75f607a1dea0"
      },
      "execution_count": null,
      "outputs": [
        {
          "output_type": "execute_result",
          "data": {
            "text/plain": [
              "0.9313907801110134"
            ]
          },
          "metadata": {},
          "execution_count": 51
        }
      ]
    },
    {
      "cell_type": "code",
      "source": [
        "#CarrierDelay: 0.5, #WeatherDelay: 0.2, UniqueCarrier, DayofMonth, DayofWeek"
      ],
      "metadata": {
        "id": "pvcC69j2Rfpi"
      },
      "execution_count": null,
      "outputs": []
    },
    {
      "cell_type": "markdown",
      "source": [
        "# **3. Data Preparation**"
      ],
      "metadata": {
        "id": "LfXqFVj1W-vK"
      }
    },
    {
      "cell_type": "code",
      "source": [
        "selectedCol_df = raw_df.select('ArrDelay','DepDelay','CarrierDelay','WeatherDelay','UniqueCarrier','DayofMonth','DayofWeek')"
      ],
      "metadata": {
        "id": "YO5J-rzGXIgi"
      },
      "execution_count": null,
      "outputs": []
    },
    {
      "cell_type": "code",
      "source": [
        "selectedCol_df.printSchema()"
      ],
      "metadata": {
        "colab": {
          "base_uri": "https://localhost:8080/"
        },
        "id": "7RwJviO1XZpQ",
        "outputId": "fcec67a6-0115-4398-c024-a8cfe547e938"
      },
      "execution_count": null,
      "outputs": [
        {
          "output_type": "stream",
          "name": "stdout",
          "text": [
            "root\n",
            " |-- ArrDelay: string (nullable = true)\n",
            " |-- DepDelay: string (nullable = true)\n",
            " |-- CarrierDelay: string (nullable = true)\n",
            " |-- WeatherDelay: string (nullable = true)\n",
            " |-- UniqueCarrier: string (nullable = true)\n",
            " |-- DayofMonth: integer (nullable = true)\n",
            " |-- DayofWeek: integer (nullable = true)\n",
            "\n"
          ]
        }
      ]
    },
    {
      "cell_type": "code",
      "source": [
        "selectedCol_df.describe().show()"
      ],
      "metadata": {
        "colab": {
          "base_uri": "https://localhost:8080/"
        },
        "id": "FSauxAgjXfuh",
        "outputId": "b15c0196-1da4-4830-8a0c-17d00f712ce8"
      },
      "execution_count": null,
      "outputs": [
        {
          "output_type": "stream",
          "name": "stdout",
          "text": [
            "+-------+-----------------+------------------+------------------+-----------------+-------------+-----------------+------------------+\n",
            "|summary|         ArrDelay|          DepDelay|      CarrierDelay|     WeatherDelay|UniqueCarrier|       DayofMonth|         DayofWeek|\n",
            "+-------+-----------------+------------------+------------------+-----------------+-------------+-----------------+------------------+\n",
            "|  count|          7009728|           7009728|           7009728|          7009728|      7009728|          7009728|           7009728|\n",
            "|   mean| 8.16845238729114| 9.972570088930182|15.772063342154539|3.039031044738922|         null|15.72801483880687|3.9241815088973495|\n",
            "| stddev|38.50193694882867|35.311270777552785| 40.09911594635346|19.50287413039825|         null|8.797067919493633|1.9882589459851212|\n",
            "|    min|               -1|                -1|                 0|                0|           9E|                1|                 1|\n",
            "|    max|               NA|                NA|                NA|               NA|           YV|               31|                 7|\n",
            "+-------+-----------------+------------------+------------------+-----------------+-------------+-----------------+------------------+\n",
            "\n"
          ]
        }
      ]
    },
    {
      "cell_type": "code",
      "source": [
        "selectedCol_df\\\n",
        ".withColumn('DepDelay',sparkf.col('DepDelay').cast(DoubleType()))\\\n",
        ".withColumn('ArrDelay',sparkf.col('ArrDelay').cast(DoubleType()))\\\n",
        ".withColumn('CarrierDelay',sparkf.col('CarrierDelay').cast(DoubleType()))\\\n",
        ".withColumn('WeatherDelay',sparkf.col('WeatherDelay').cast(DoubleType()))\\\n",
        ".describe().show()"
      ],
      "metadata": {
        "colab": {
          "base_uri": "https://localhost:8080/"
        },
        "id": "ltCp-HaPXnD3",
        "outputId": "a0f403f4-d782-4386-886b-42ad2ccd9fd7"
      },
      "execution_count": null,
      "outputs": [
        {
          "output_type": "stream",
          "name": "stdout",
          "text": [
            "+-------+-----------------+------------------+------------------+-----------------+-------------+-----------------+------------------+\n",
            "|summary|         ArrDelay|          DepDelay|      CarrierDelay|     WeatherDelay|UniqueCarrier|       DayofMonth|         DayofWeek|\n",
            "+-------+-----------------+------------------+------------------+-----------------+-------------+-----------------+------------------+\n",
            "|  count|          6855029|           6873482|           1524735|          1524735|      7009728|          7009728|           7009728|\n",
            "|   mean| 8.16845238729114| 9.972570088930182|15.772063342154539|3.039031044738922|         null|15.72801483880687|3.9241815088973495|\n",
            "| stddev|38.50193694882867|35.311270777552785| 40.09911594635346|19.50287413039825|         null|8.797067919493633|1.9882589459851212|\n",
            "|    min|           -519.0|            -534.0|               0.0|              0.0|           9E|                1|                 1|\n",
            "|    max|           2461.0|            2467.0|            2436.0|           1352.0|           YV|               31|                 7|\n",
            "+-------+-----------------+------------------+------------------+-----------------+-------------+-----------------+------------------+\n",
            "\n"
          ]
        }
      ]
    },
    {
      "cell_type": "code",
      "source": [
        "ABT_df = selectedCol_df\\\n",
        ".withColumn('DepDelay',sparkf.col('DepDelay').cast(DoubleType()))\\\n",
        ".withColumn('ArrDelay',sparkf.col('ArrDelay').cast(DoubleType()))\\\n",
        ".withColumn('CarrierDelay',sparkf.col('CarrierDelay').cast(DoubleType()))\\\n",
        ".withColumn('WeatherDelay',sparkf.col('WeatherDelay').cast(DoubleType()))\\\n",
        ".dropna()"
      ],
      "metadata": {
        "id": "Ivm457GdYMGB"
      },
      "execution_count": null,
      "outputs": []
    },
    {
      "cell_type": "code",
      "source": [
        "ABT_df.describe().toPandas().transpose()"
      ],
      "metadata": {
        "colab": {
          "base_uri": "https://localhost:8080/",
          "height": 300
        },
        "id": "FNF_u3sRY_Lv",
        "outputId": "fa706892-f446-4a31-81b6-83b1bfcaac1b"
      },
      "execution_count": null,
      "outputs": [
        {
          "output_type": "execute_result",
          "data": {
            "text/plain": [
              "                     0                   1                   2      3       4\n",
              "summary          count                mean              stddev    min     max\n",
              "ArrDelay       1524735  56.821672618520594  57.163519606845306   15.0  2461.0\n",
              "DepDelay       1524735   48.53711431822579   59.10622675425502  -61.0  2467.0\n",
              "CarrierDelay   1524735  15.772063342154539   40.09911594635346    0.0  2436.0\n",
              "WeatherDelay   1524735   3.039031044738922   19.50287413039825    0.0  1352.0\n",
              "UniqueCarrier  1524735                None                None     9E      YV\n",
              "DayofMonth     1524735  15.700510580527109   8.781591233385774      1      31\n",
              "DayofWeek      1524735  3.9639150409743333  1.9844368422404373      1       7"
            ],
            "text/html": [
              "\n",
              "  <div id=\"df-42a5599d-8f19-4031-bed8-fa327386e1e0\">\n",
              "    <div class=\"colab-df-container\">\n",
              "      <div>\n",
              "<style scoped>\n",
              "    .dataframe tbody tr th:only-of-type {\n",
              "        vertical-align: middle;\n",
              "    }\n",
              "\n",
              "    .dataframe tbody tr th {\n",
              "        vertical-align: top;\n",
              "    }\n",
              "\n",
              "    .dataframe thead th {\n",
              "        text-align: right;\n",
              "    }\n",
              "</style>\n",
              "<table border=\"1\" class=\"dataframe\">\n",
              "  <thead>\n",
              "    <tr style=\"text-align: right;\">\n",
              "      <th></th>\n",
              "      <th>0</th>\n",
              "      <th>1</th>\n",
              "      <th>2</th>\n",
              "      <th>3</th>\n",
              "      <th>4</th>\n",
              "    </tr>\n",
              "  </thead>\n",
              "  <tbody>\n",
              "    <tr>\n",
              "      <th>summary</th>\n",
              "      <td>count</td>\n",
              "      <td>mean</td>\n",
              "      <td>stddev</td>\n",
              "      <td>min</td>\n",
              "      <td>max</td>\n",
              "    </tr>\n",
              "    <tr>\n",
              "      <th>ArrDelay</th>\n",
              "      <td>1524735</td>\n",
              "      <td>56.821672618520594</td>\n",
              "      <td>57.163519606845306</td>\n",
              "      <td>15.0</td>\n",
              "      <td>2461.0</td>\n",
              "    </tr>\n",
              "    <tr>\n",
              "      <th>DepDelay</th>\n",
              "      <td>1524735</td>\n",
              "      <td>48.53711431822579</td>\n",
              "      <td>59.10622675425502</td>\n",
              "      <td>-61.0</td>\n",
              "      <td>2467.0</td>\n",
              "    </tr>\n",
              "    <tr>\n",
              "      <th>CarrierDelay</th>\n",
              "      <td>1524735</td>\n",
              "      <td>15.772063342154539</td>\n",
              "      <td>40.09911594635346</td>\n",
              "      <td>0.0</td>\n",
              "      <td>2436.0</td>\n",
              "    </tr>\n",
              "    <tr>\n",
              "      <th>WeatherDelay</th>\n",
              "      <td>1524735</td>\n",
              "      <td>3.039031044738922</td>\n",
              "      <td>19.50287413039825</td>\n",
              "      <td>0.0</td>\n",
              "      <td>1352.0</td>\n",
              "    </tr>\n",
              "    <tr>\n",
              "      <th>UniqueCarrier</th>\n",
              "      <td>1524735</td>\n",
              "      <td>None</td>\n",
              "      <td>None</td>\n",
              "      <td>9E</td>\n",
              "      <td>YV</td>\n",
              "    </tr>\n",
              "    <tr>\n",
              "      <th>DayofMonth</th>\n",
              "      <td>1524735</td>\n",
              "      <td>15.700510580527109</td>\n",
              "      <td>8.781591233385774</td>\n",
              "      <td>1</td>\n",
              "      <td>31</td>\n",
              "    </tr>\n",
              "    <tr>\n",
              "      <th>DayofWeek</th>\n",
              "      <td>1524735</td>\n",
              "      <td>3.9639150409743333</td>\n",
              "      <td>1.9844368422404373</td>\n",
              "      <td>1</td>\n",
              "      <td>7</td>\n",
              "    </tr>\n",
              "  </tbody>\n",
              "</table>\n",
              "</div>\n",
              "      <button class=\"colab-df-convert\" onclick=\"convertToInteractive('df-42a5599d-8f19-4031-bed8-fa327386e1e0')\"\n",
              "              title=\"Convert this dataframe to an interactive table.\"\n",
              "              style=\"display:none;\">\n",
              "        \n",
              "  <svg xmlns=\"http://www.w3.org/2000/svg\" height=\"24px\"viewBox=\"0 0 24 24\"\n",
              "       width=\"24px\">\n",
              "    <path d=\"M0 0h24v24H0V0z\" fill=\"none\"/>\n",
              "    <path d=\"M18.56 5.44l.94 2.06.94-2.06 2.06-.94-2.06-.94-.94-2.06-.94 2.06-2.06.94zm-11 1L8.5 8.5l.94-2.06 2.06-.94-2.06-.94L8.5 2.5l-.94 2.06-2.06.94zm10 10l.94 2.06.94-2.06 2.06-.94-2.06-.94-.94-2.06-.94 2.06-2.06.94z\"/><path d=\"M17.41 7.96l-1.37-1.37c-.4-.4-.92-.59-1.43-.59-.52 0-1.04.2-1.43.59L10.3 9.45l-7.72 7.72c-.78.78-.78 2.05 0 2.83L4 21.41c.39.39.9.59 1.41.59.51 0 1.02-.2 1.41-.59l7.78-7.78 2.81-2.81c.8-.78.8-2.07 0-2.86zM5.41 20L4 18.59l7.72-7.72 1.47 1.35L5.41 20z\"/>\n",
              "  </svg>\n",
              "      </button>\n",
              "      \n",
              "  <style>\n",
              "    .colab-df-container {\n",
              "      display:flex;\n",
              "      flex-wrap:wrap;\n",
              "      gap: 12px;\n",
              "    }\n",
              "\n",
              "    .colab-df-convert {\n",
              "      background-color: #E8F0FE;\n",
              "      border: none;\n",
              "      border-radius: 50%;\n",
              "      cursor: pointer;\n",
              "      display: none;\n",
              "      fill: #1967D2;\n",
              "      height: 32px;\n",
              "      padding: 0 0 0 0;\n",
              "      width: 32px;\n",
              "    }\n",
              "\n",
              "    .colab-df-convert:hover {\n",
              "      background-color: #E2EBFA;\n",
              "      box-shadow: 0px 1px 2px rgba(60, 64, 67, 0.3), 0px 1px 3px 1px rgba(60, 64, 67, 0.15);\n",
              "      fill: #174EA6;\n",
              "    }\n",
              "\n",
              "    [theme=dark] .colab-df-convert {\n",
              "      background-color: #3B4455;\n",
              "      fill: #D2E3FC;\n",
              "    }\n",
              "\n",
              "    [theme=dark] .colab-df-convert:hover {\n",
              "      background-color: #434B5C;\n",
              "      box-shadow: 0px 1px 3px 1px rgba(0, 0, 0, 0.15);\n",
              "      filter: drop-shadow(0px 1px 2px rgba(0, 0, 0, 0.3));\n",
              "      fill: #FFFFFF;\n",
              "    }\n",
              "  </style>\n",
              "\n",
              "      <script>\n",
              "        const buttonEl =\n",
              "          document.querySelector('#df-42a5599d-8f19-4031-bed8-fa327386e1e0 button.colab-df-convert');\n",
              "        buttonEl.style.display =\n",
              "          google.colab.kernel.accessAllowed ? 'block' : 'none';\n",
              "\n",
              "        async function convertToInteractive(key) {\n",
              "          const element = document.querySelector('#df-42a5599d-8f19-4031-bed8-fa327386e1e0');\n",
              "          const dataTable =\n",
              "            await google.colab.kernel.invokeFunction('convertToInteractive',\n",
              "                                                     [key], {});\n",
              "          if (!dataTable) return;\n",
              "\n",
              "          const docLinkHtml = 'Like what you see? Visit the ' +\n",
              "            '<a target=\"_blank\" href=https://colab.research.google.com/notebooks/data_table.ipynb>data table notebook</a>'\n",
              "            + ' to learn more about interactive tables.';\n",
              "          element.innerHTML = '';\n",
              "          dataTable['output_type'] = 'display_data';\n",
              "          await google.colab.output.renderOutput(dataTable, element);\n",
              "          const docLink = document.createElement('div');\n",
              "          docLink.innerHTML = docLinkHtml;\n",
              "          element.appendChild(docLink);\n",
              "        }\n",
              "      </script>\n",
              "    </div>\n",
              "  </div>\n",
              "  "
            ]
          },
          "metadata": {},
          "execution_count": 59
        }
      ]
    },
    {
      "cell_type": "code",
      "source": [
        "ABT_df.printSchema()"
      ],
      "metadata": {
        "colab": {
          "base_uri": "https://localhost:8080/"
        },
        "id": "w36Ohi0oZWfl",
        "outputId": "49f52c27-f6e7-4dde-d4ff-5265fa7a1b8f"
      },
      "execution_count": null,
      "outputs": [
        {
          "output_type": "stream",
          "name": "stdout",
          "text": [
            "root\n",
            " |-- ArrDelay: double (nullable = true)\n",
            " |-- DepDelay: double (nullable = true)\n",
            " |-- CarrierDelay: double (nullable = true)\n",
            " |-- WeatherDelay: double (nullable = true)\n",
            " |-- UniqueCarrier: string (nullable = true)\n",
            " |-- DayofMonth: integer (nullable = true)\n",
            " |-- DayofWeek: integer (nullable = true)\n",
            "\n"
          ]
        }
      ]
    },
    {
      "cell_type": "code",
      "source": [],
      "metadata": {
        "id": "gd8DFblkZ-tq"
      },
      "execution_count": null,
      "outputs": []
    }
  ],
  "metadata": {
    "kernelspec": {
      "display_name": "PySpark",
      "language": "python",
      "name": "pyspark"
    },
    "language_info": {
      "codemirror_mode": {
        "name": "ipython",
        "version": 3
      },
      "file_extension": ".py",
      "mimetype": "text/x-python",
      "name": "python",
      "nbconvert_exporter": "python",
      "pygments_lexer": "ipython3",
      "version": "3.7.4"
    },
    "colab": {
      "provenance": [],
      "collapsed_sections": []
    }
  },
  "nbformat": 4,
  "nbformat_minor": 0
}